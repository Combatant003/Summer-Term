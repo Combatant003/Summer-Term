{
 "cells": [
  {
   "cell_type": "code",
   "execution_count": 7,
   "metadata": {},
   "outputs": [],
   "source": [
    "import pandas as pd\n",
    "import glob\n",
    "import numpy as np\n",
    "from sqlalchemy import create_engine\n",
    "import warnings\n",
    "from geopy.geocoders import Nominatim\n",
    "\n",
    "# Ignore Warnings\n",
    "from pandas.errors import SettingWithCopyWarning\n",
    "warnings.simplefilter(action=\"ignore\", category=SettingWithCopyWarning)"
   ]
  },
  {
   "cell_type": "code",
   "execution_count": 2,
   "metadata": {},
   "outputs": [],
   "source": [
    "ht_path = \"High Tension/\"\n",
    "lt_path = \"Low Tension/\"\n",
    "ht_files = glob.glob(ht_path + \"*.csv\")\n",
    "lt_files = glob.glob(lt_path + \"*.csv\")\n",
    "ht_files.sort()\n",
    "lt_files.sort()"
   ]
  },
  {
   "cell_type": "code",
   "execution_count": 3,
   "metadata": {},
   "outputs": [],
   "source": [
    "ht = []\n",
    "lt = []\n",
    "for i in range(len(ht_files)):\n",
    "  ht.append(pd.read_csv(ht_files[i]))\n",
    "  lt.append(pd.read_csv(lt_files[i]))"
   ]
  },
  {
   "cell_type": "code",
   "execution_count": 4,
   "metadata": {},
   "outputs": [],
   "source": [
    "for i in range(len(ht)):\n",
    "    ht[i]['Divisions'] = ht[i]['Divisions'] + \", Bengaluru\"\n",
    "    lt[i]['Divisions'] = lt[i]['Divisions'] + \", Bengaluru\""
   ]
  },
  {
   "cell_type": "code",
   "execution_count": 6,
   "metadata": {},
   "outputs": [],
   "source": [
    "for i in range(len(ht)):\n",
    "    ht[i].dropna(inplace=True)\n",
    "    lt[i].dropna(inplace=True)"
   ]
  },
  {
   "cell_type": "code",
   "execution_count": null,
   "metadata": {},
   "outputs": [],
   "source": []
  }
 ],
 "metadata": {
  "kernelspec": {
   "display_name": ".venv",
   "language": "python",
   "name": "python3"
  },
  "language_info": {
   "codemirror_mode": {
    "name": "ipython",
    "version": 3
   },
   "file_extension": ".py",
   "mimetype": "text/x-python",
   "name": "python",
   "nbconvert_exporter": "python",
   "pygments_lexer": "ipython3",
   "version": "3.11.4"
  },
  "orig_nbformat": 4
 },
 "nbformat": 4,
 "nbformat_minor": 2
}
