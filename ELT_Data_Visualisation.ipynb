{
  "cells": [
    {
      "cell_type": "markdown",
      "metadata": {
        "id": "Spt8W3ADoZuY"
      },
      "source": [
        "# Imports"
      ]
    },
    {
      "cell_type": "code",
      "execution_count": 1,
      "metadata": {
        "id": "WTCsEdCPVG27"
      },
      "outputs": [],
      "source": [
        "import pandas as pd\n",
        "import glob\n",
        "import numpy as np\n",
        "import mysql.connector as mysql\n",
        "import warnings\n",
        "from mysql.connector import Error\n",
        "\n",
        "# Ignore Warnings\n",
        "from pandas.errors import SettingWithCopyWarning\n",
        "warnings.simplefilter(action=\"ignore\", category=SettingWithCopyWarning)"
      ]
    },
    {
      "cell_type": "markdown",
      "metadata": {},
      "source": [
        "# ELT"
      ]
    },
    {
      "cell_type": "markdown",
      "metadata": {
        "id": "RkcnS39qogqb"
      },
      "source": [
        "## Read all the files"
      ]
    },
    {
      "cell_type": "code",
      "execution_count": 2,
      "metadata": {
        "id": "OxeVHJf0XxVE"
      },
      "outputs": [],
      "source": [
        "ht_path = \"High Tension/\"\n",
        "lt_path = \"Low Tension/\"\n",
        "ht_files = glob.glob(ht_path + \"*.csv\")\n",
        "lt_files = glob.glob(lt_path + \"*.csv\")\n",
        "ht_files.sort()\n",
        "lt_files.sort()"
      ]
    },
    {
      "cell_type": "markdown",
      "metadata": {
        "id": "L9wiR4VMnUcV"
      },
      "source": [
        "## Files corresponding and its variables\n",
        "*   0 --> 2018-19\n",
        "*   1 --> 2019-20\n",
        "*   2 --> 2020-21\n",
        "*   3 --> 2021-22\n",
        "*   4 --> 2022-23\n",
        "\n",
        "\n",
        "\n",
        "\n",
        "\n"
      ]
    },
    {
      "cell_type": "code",
      "execution_count": 3,
      "metadata": {
        "id": "LP7pPVmNmxov"
      },
      "outputs": [],
      "source": [
        "ht = []\n",
        "lt = []\n",
        "for i in range(len(ht_files)):\n",
        "  ht.append(pd.read_csv(ht_files[i]))\n",
        "  lt.append(pd.read_csv(lt_files[i]))"
      ]
    },
    {
      "cell_type": "markdown",
      "metadata": {
        "id": "bC_1JLANork7"
      },
      "source": [
        "## Get Index of NULL Values in the data"
      ]
    },
    {
      "cell_type": "code",
      "execution_count": 4,
      "metadata": {
        "id": "f0ZL4aDHn5Oj"
      },
      "outputs": [],
      "source": [
        "ht_index = []\n",
        "lt_index = []\n",
        "for i in range(len(ht)):\n",
        "  ht_index.append(np.where(ht[i]['Sl. No.'].isnull() == True)[0])\n",
        "  lt_index.append(np.where(lt[i]['Sl. No.'].isnull() == True)[0])"
      ]
    },
    {
      "cell_type": "markdown",
      "metadata": {},
      "source": [
        "## Change adding Bengaluru to end of cities"
      ]
    },
    {
      "cell_type": "code",
      "execution_count": 5,
      "metadata": {},
      "outputs": [],
      "source": [
        "for i in range(len(ht)):\n",
        "    ht[i]['Divisions'] = ht[i]['Divisions'] + \", Bengaluru\"\n",
        "    lt[i]['Divisions'] = lt[i]['Divisions'] + \", Bengaluru\""
      ]
    },
    {
      "cell_type": "markdown",
      "metadata": {},
      "source": [
        "## Changing Sl No so that it division corresponds with its area"
      ]
    },
    {
      "cell_type": "code",
      "execution_count": 8,
      "metadata": {},
      "outputs": [],
      "source": [
        "for x in range(len(ht)):\n",
        "    # For ht data\n",
        "    ht_prev = 0\n",
        "    ht_mapper = 1\n",
        "    for i in ht_index[x]:\n",
        "        ht[x]['Sl. No.'].iloc[ht_prev:i] = ht_mapper\n",
        "        ht_mapper += 1\n",
        "        ht_prev = i + 1\n",
        "        \n",
        "    # For lt data\n",
        "    lt_prev = 0\n",
        "    lt_mapper = 1\n",
        "    for i in ht_index[x]:\n",
        "        lt[x]['Sl. No.'].iloc[lt_prev:i] = lt_mapper\n",
        "        lt_mapper += 1\n",
        "        lt_prev = i + 1"
      ]
    },
    {
      "cell_type": "markdown",
      "metadata": {},
      "source": [
        "## Creating new DataFrames to store Null values which are wards in Bengulara"
      ]
    },
    {
      "cell_type": "code",
      "execution_count": 6,
      "metadata": {},
      "outputs": [],
      "source": [
        "ht_area_data = []\n",
        "lt_area_data = []\n",
        "for i in range(len(ht)):\n",
        "    ht_area_data.append(pd.DataFrame(data=ht[i].iloc[ht_index[i]]))\n",
        "    lt_area_data.append(pd.DataFrame(data=lt[i].iloc[lt_index[i]]))"
      ]
    },
    {
      "cell_type": "markdown",
      "metadata": {},
      "source": [
        "## Dropping the null values from the database"
      ]
    },
    {
      "cell_type": "code",
      "execution_count": null,
      "metadata": {},
      "outputs": [],
      "source": [
        "for i in range(len(ht)):\n",
        "    ht[i].dropna(inplace=True)\n",
        "    lt[i].dropna(inplace=True)"
      ]
    },
    {
      "cell_type": "markdown",
      "metadata": {},
      "source": [
        "# Create Database"
      ]
    },
    {
      "cell_type": "code",
      "execution_count": null,
      "metadata": {},
      "outputs": [],
      "source": [
        "try:\n",
        "    conn = mysql.connect(host='localhost', user='root', password='root')\n",
        "    if conn.is_connected():\n",
        "        cursor = conn.cursor()\n",
        "        cursor.execute(\"CREATE DATABASE bescom\")\n",
        "        print(\"Connection Successfull !!\")\n",
        "except Error as e:\n",
        "        print(e)"
      ]
    }
  ],
  "metadata": {
    "colab": {
      "provenance": []
    },
    "kernelspec": {
      "display_name": "Python 3",
      "name": "python3"
    },
    "language_info": {
      "codemirror_mode": {
        "name": "ipython",
        "version": 3
      },
      "file_extension": ".py",
      "mimetype": "text/x-python",
      "name": "python",
      "nbconvert_exporter": "python",
      "pygments_lexer": "ipython3",
      "version": "3.11.4"
    }
  },
  "nbformat": 4,
  "nbformat_minor": 0
}
