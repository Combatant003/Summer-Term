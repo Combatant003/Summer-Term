{
  "cells": [
    {
      "cell_type": "markdown",
      "metadata": {
        "id": "Spt8W3ADoZuY"
      },
      "source": [
        "# Imports"
      ]
    },
    {
      "cell_type": "code",
      "execution_count": 4,
      "metadata": {
        "id": "WTCsEdCPVG27"
      },
      "outputs": [],
      "source": [
        "import pandas as pd\n",
        "import glob\n",
        "import numpy as np\n",
        "import mysql.connector as mysql\n",
        "import warnings\n",
        "from mysql.connector import Error\n",
        "\n",
        "# Ignore Warnings\n",
        "from pandas.errors import SettingWithCopyWarning\n",
        "warnings.simplefilter(action=\"ignore\", category=SettingWithCopyWarning)"
      ]
    },
    {
      "cell_type": "markdown",
      "metadata": {},
      "source": [
        "# ELT"
      ]
    },
    {
      "cell_type": "markdown",
      "metadata": {
        "id": "RkcnS39qogqb"
      },
      "source": [
        "## Read all the files"
      ]
    },
    {
      "cell_type": "code",
      "execution_count": 5,
      "metadata": {
        "id": "OxeVHJf0XxVE"
      },
      "outputs": [],
      "source": [
        "ht_path = \"High Tension/\"\n",
        "lt_path = \"Low Tension/\"\n",
        "ht_files = glob.glob(ht_path + \"*.csv\")\n",
        "lt_files = glob.glob(lt_path + \"*.csv\")\n",
        "ht_files.sort()\n",
        "lt_files.sort()"
      ]
    },
    {
      "cell_type": "markdown",
      "metadata": {
        "id": "L9wiR4VMnUcV"
      },
      "source": [
        "## Files corresponding and its variables\n",
        "*   0 --> 2018-19\n",
        "*   1 --> 2019-20\n",
        "*   2 --> 2020-21\n",
        "*   3 --> 2021-22\n",
        "*   4 --> 2022-23\n",
        "\n",
        "\n",
        "\n",
        "\n",
        "\n"
      ]
    },
    {
      "cell_type": "code",
      "execution_count": 6,
      "metadata": {
        "id": "LP7pPVmNmxov"
      },
      "outputs": [],
      "source": [
        "ht = []\n",
        "lt = []\n",
        "for i in range(len(ht_files)):\n",
        "  ht.append(pd.read_csv(ht_files[i]))\n",
        "  lt.append(pd.read_csv(lt_files[i]))"
      ]
    },
    {
      "cell_type": "markdown",
      "metadata": {
        "id": "bC_1JLANork7"
      },
      "source": [
        "## Get Index of NULL Values in the data"
      ]
    },
    {
      "cell_type": "code",
      "execution_count": 7,
      "metadata": {
        "id": "f0ZL4aDHn5Oj"
      },
      "outputs": [],
      "source": [
        "ht_index = []\n",
        "lt_index = []\n",
        "for i in range(len(ht)):\n",
        "  ht_index.append(np.where(ht[i]['Sl. No.'].isnull() == True)[0])\n",
        "  lt_index.append(np.where(lt[i]['Sl. No.'].isnull() == True)[0])"
      ]
    },
    {
      "cell_type": "markdown",
      "metadata": {},
      "source": [
        "## Change adding Bengaluru to end of cities"
      ]
    },
    {
      "cell_type": "code",
      "execution_count": 8,
      "metadata": {},
      "outputs": [],
      "source": [
        "for i in range(len(ht)):\n",
        "    ht[i]['Divisions'] = ht[i]['Divisions'] + \", Bengaluru\"\n",
        "    lt[i]['Divisions'] = lt[i]['Divisions'] + \", Bengaluru\""
      ]
    },
    {
      "cell_type": "markdown",
      "metadata": {},
      "source": [
        "## Changing Sl No so that it division corresponds with its area"
      ]
    },
    {
      "cell_type": "code",
      "execution_count": 9,
      "metadata": {},
      "outputs": [],
      "source": [
        "for x in range(len(ht)):\n",
        "    # For ht data\n",
        "    ht_prev = 0\n",
        "    ht_mapper = 1\n",
        "    for i in ht_index[x]:\n",
        "        ht[x]['Sl. No.'].iloc[ht_prev:i] = ht_mapper\n",
        "        ht_mapper += 1\n",
        "        ht_prev = i + 1\n",
        "        \n",
        "    # For lt data\n",
        "    lt_prev = 0\n",
        "    lt_mapper = 1\n",
        "    for i in ht_index[x]:\n",
        "        lt[x]['Sl. No.'].iloc[lt_prev:i] = lt_mapper\n",
        "        lt_mapper += 1\n",
        "        lt_prev = i + 1"
      ]
    },
    {
      "cell_type": "markdown",
      "metadata": {},
      "source": [
        "## Creating new DataFrames to store Null values which are wards in Bengaluru"
      ]
    },
    {
      "cell_type": "code",
      "execution_count": 10,
      "metadata": {},
      "outputs": [],
      "source": [
        "ht_area_data = []\n",
        "lt_area_data = []\n",
        "for i in range(len(ht)):\n",
        "    ht_area_data.append(pd.DataFrame(data=ht[i].iloc[ht_index[i]]))\n",
        "    lt_area_data.append(pd.DataFrame(data=lt[i].iloc[lt_index[i]]))"
      ]
    },
    {
      "cell_type": "code",
      "execution_count": 15,
      "metadata": {},
      "outputs": [
        {
          "data": {
            "text/html": [
              "<div>\n",
              "<style scoped>\n",
              "    .dataframe tbody tr th:only-of-type {\n",
              "        vertical-align: middle;\n",
              "    }\n",
              "\n",
              "    .dataframe tbody tr th {\n",
              "        vertical-align: top;\n",
              "    }\n",
              "\n",
              "    .dataframe thead th {\n",
              "        text-align: right;\n",
              "    }\n",
              "</style>\n",
              "<table border=\"1\" class=\"dataframe\">\n",
              "  <thead>\n",
              "    <tr style=\"text-align: right;\">\n",
              "      <th></th>\n",
              "      <th>Sl. No.</th>\n",
              "      <th>Divisions</th>\n",
              "      <th>Overhead(OH) Added for 2019-20</th>\n",
              "      <th>OH Dismantled in 2019-20</th>\n",
              "      <th>OH Cables Total</th>\n",
              "      <th>Underground(UG) Added for 2019-20</th>\n",
              "      <th>UG Dismantled in 2019-20</th>\n",
              "      <th>UG Total</th>\n",
              "      <th>Ariel Bundled(AB) Cables Added for 2019-20</th>\n",
              "      <th>AB Cables Dismantled in 2019-20</th>\n",
              "      <th>AB Cables Total</th>\n",
              "      <th>Total Cable Length (km)</th>\n",
              "    </tr>\n",
              "  </thead>\n",
              "  <tbody>\n",
              "    <tr>\n",
              "      <th>4</th>\n",
              "      <td>1.0</td>\n",
              "      <td>East Circle, Bengaluru</td>\n",
              "      <td>1.040</td>\n",
              "      <td>0</td>\n",
              "      <td>775.9300</td>\n",
              "      <td>96.150</td>\n",
              "      <td>0</td>\n",
              "      <td>1327.565</td>\n",
              "      <td>47.04</td>\n",
              "      <td>0.0</td>\n",
              "      <td>114.970</td>\n",
              "      <td>2218.4650</td>\n",
              "    </tr>\n",
              "    <tr>\n",
              "      <th>8</th>\n",
              "      <td>1.0</td>\n",
              "      <td>South Circle, Bengaluru</td>\n",
              "      <td>10.180</td>\n",
              "      <td>0</td>\n",
              "      <td>2390.0900</td>\n",
              "      <td>40.560</td>\n",
              "      <td>0</td>\n",
              "      <td>1633.760</td>\n",
              "      <td>1.57</td>\n",
              "      <td>0.0</td>\n",
              "      <td>119.360</td>\n",
              "      <td>4143.2100</td>\n",
              "    </tr>\n",
              "    <tr>\n",
              "      <th>12</th>\n",
              "      <td>1.0</td>\n",
              "      <td>West Circle, Bengaluru</td>\n",
              "      <td>12.654</td>\n",
              "      <td>0</td>\n",
              "      <td>1354.6520</td>\n",
              "      <td>41.772</td>\n",
              "      <td>0</td>\n",
              "      <td>725.147</td>\n",
              "      <td>0.67</td>\n",
              "      <td>0.0</td>\n",
              "      <td>299.817</td>\n",
              "      <td>2379.6160</td>\n",
              "    </tr>\n",
              "    <tr>\n",
              "      <th>16</th>\n",
              "      <td>1.0</td>\n",
              "      <td>North Circle, Bengaluru</td>\n",
              "      <td>10.780</td>\n",
              "      <td>0</td>\n",
              "      <td>1323.1300</td>\n",
              "      <td>39.290</td>\n",
              "      <td>0</td>\n",
              "      <td>892.463</td>\n",
              "      <td>0.10</td>\n",
              "      <td>0.0</td>\n",
              "      <td>94.940</td>\n",
              "      <td>2310.5330</td>\n",
              "    </tr>\n",
              "    <tr>\n",
              "      <th>19</th>\n",
              "      <td>1.0</td>\n",
              "      <td>Blore Rural Circle, Bengaluru</td>\n",
              "      <td>447.480</td>\n",
              "      <td>0</td>\n",
              "      <td>11722.9520</td>\n",
              "      <td>19.250</td>\n",
              "      <td>0</td>\n",
              "      <td>569.248</td>\n",
              "      <td>0.63</td>\n",
              "      <td>0.0</td>\n",
              "      <td>3.000</td>\n",
              "      <td>12295.2000</td>\n",
              "    </tr>\n",
              "    <tr>\n",
              "      <th>24</th>\n",
              "      <td>1.0</td>\n",
              "      <td>Ramnagar Circle, Bengaluru</td>\n",
              "      <td>897.587</td>\n",
              "      <td>0</td>\n",
              "      <td>9905.3383</td>\n",
              "      <td>11.604</td>\n",
              "      <td>0</td>\n",
              "      <td>245.482</td>\n",
              "      <td>7.11</td>\n",
              "      <td>0.0</td>\n",
              "      <td>146.950</td>\n",
              "      <td>10297.7703</td>\n",
              "    </tr>\n",
              "    <tr>\n",
              "      <th>29</th>\n",
              "      <td>1.0</td>\n",
              "      <td>Kolar Circle, Bengaluru</td>\n",
              "      <td>775.110</td>\n",
              "      <td>0</td>\n",
              "      <td>16430.5500</td>\n",
              "      <td>0.000</td>\n",
              "      <td>0</td>\n",
              "      <td>174.170</td>\n",
              "      <td>0.00</td>\n",
              "      <td>0.0</td>\n",
              "      <td>3.270</td>\n",
              "      <td>16607.9900</td>\n",
              "    </tr>\n",
              "    <tr>\n",
              "      <th>34</th>\n",
              "      <td>1.0</td>\n",
              "      <td>Tumkur Circle, Bengaluru</td>\n",
              "      <td>2931.879</td>\n",
              "      <td>0</td>\n",
              "      <td>29810.0260</td>\n",
              "      <td>0.000</td>\n",
              "      <td>0</td>\n",
              "      <td>0.000</td>\n",
              "      <td>0.00</td>\n",
              "      <td>0.0</td>\n",
              "      <td>0.000</td>\n",
              "      <td>29810.0260</td>\n",
              "    </tr>\n",
              "    <tr>\n",
              "      <th>39</th>\n",
              "      <td>1.0</td>\n",
              "      <td>Davanagere Circle, Bengaluru</td>\n",
              "      <td>1575.720</td>\n",
              "      <td>0</td>\n",
              "      <td>27742.2400</td>\n",
              "      <td>0.000</td>\n",
              "      <td>0</td>\n",
              "      <td>9.055</td>\n",
              "      <td>0.00</td>\n",
              "      <td>0.0</td>\n",
              "      <td>14.460</td>\n",
              "      <td>27765.7550</td>\n",
              "    </tr>\n",
              "    <tr>\n",
              "      <th>40</th>\n",
              "      <td>1.0</td>\n",
              "      <td>BESCOM, Bengaluru</td>\n",
              "      <td>6662.430</td>\n",
              "      <td>0</td>\n",
              "      <td>101454.9083</td>\n",
              "      <td>248.626</td>\n",
              "      <td>0</td>\n",
              "      <td>5576.890</td>\n",
              "      <td>3.22</td>\n",
              "      <td>0.0</td>\n",
              "      <td>796.767</td>\n",
              "      <td>107828.5653</td>\n",
              "    </tr>\n",
              "  </tbody>\n",
              "</table>\n",
              "</div>"
            ],
            "text/plain": [
              "    Sl. No.                      Divisions  Overhead(OH) Added for 2019-20  \\\n",
              "4       1.0         East Circle, Bengaluru                           1.040   \n",
              "8       1.0        South Circle, Bengaluru                          10.180   \n",
              "12      1.0         West Circle, Bengaluru                          12.654   \n",
              "16      1.0        North Circle, Bengaluru                          10.780   \n",
              "19      1.0  Blore Rural Circle, Bengaluru                         447.480   \n",
              "24      1.0     Ramnagar Circle, Bengaluru                         897.587   \n",
              "29      1.0        Kolar Circle, Bengaluru                         775.110   \n",
              "34      1.0       Tumkur Circle, Bengaluru                        2931.879   \n",
              "39      1.0   Davanagere Circle, Bengaluru                        1575.720   \n",
              "40      1.0              BESCOM, Bengaluru                        6662.430   \n",
              "\n",
              "    OH Dismantled in 2019-20  OH Cables Total  \\\n",
              "4                          0         775.9300   \n",
              "8                          0        2390.0900   \n",
              "12                         0        1354.6520   \n",
              "16                         0        1323.1300   \n",
              "19                         0       11722.9520   \n",
              "24                         0        9905.3383   \n",
              "29                         0       16430.5500   \n",
              "34                         0       29810.0260   \n",
              "39                         0       27742.2400   \n",
              "40                         0      101454.9083   \n",
              "\n",
              "    Underground(UG) Added for 2019-20  UG Dismantled in 2019-20  UG Total  \\\n",
              "4                              96.150                         0  1327.565   \n",
              "8                              40.560                         0  1633.760   \n",
              "12                             41.772                         0   725.147   \n",
              "16                             39.290                         0   892.463   \n",
              "19                             19.250                         0   569.248   \n",
              "24                             11.604                         0   245.482   \n",
              "29                              0.000                         0   174.170   \n",
              "34                              0.000                         0     0.000   \n",
              "39                              0.000                         0     9.055   \n",
              "40                            248.626                         0  5576.890   \n",
              "\n",
              "    Ariel Bundled(AB) Cables Added for 2019-20  \\\n",
              "4                                        47.04   \n",
              "8                                         1.57   \n",
              "12                                        0.67   \n",
              "16                                        0.10   \n",
              "19                                        0.63   \n",
              "24                                        7.11   \n",
              "29                                        0.00   \n",
              "34                                        0.00   \n",
              "39                                        0.00   \n",
              "40                                        3.22   \n",
              "\n",
              "    AB Cables Dismantled in 2019-20  AB Cables Total  Total Cable Length (km)  \n",
              "4                               0.0          114.970                2218.4650  \n",
              "8                               0.0          119.360                4143.2100  \n",
              "12                              0.0          299.817                2379.6160  \n",
              "16                              0.0           94.940                2310.5330  \n",
              "19                              0.0            3.000               12295.2000  \n",
              "24                              0.0          146.950               10297.7703  \n",
              "29                              0.0            3.270               16607.9900  \n",
              "34                              0.0            0.000               29810.0260  \n",
              "39                              0.0           14.460               27765.7550  \n",
              "40                              0.0          796.767              107828.5653  "
            ]
          },
          "execution_count": 15,
          "metadata": {},
          "output_type": "execute_result"
        }
      ],
      "source": []
    },
    {
      "cell_type": "markdown",
      "metadata": {},
      "source": [
        "## Making SL. No. of wards and their respective areas same"
      ]
    },
    {
      "cell_type": "code",
      "execution_count": 11,
      "metadata": {},
      "outputs": [],
      "source": [
        "for i in ht_area_data[0].index:\n",
        "    ind = 1\n",
        "    ht_area_data[0].at[i, 'Sl. No.'] = ind"
      ]
    },
    {
      "cell_type": "markdown",
      "metadata": {},
      "source": [
        "## Dropping the null values from the database"
      ]
    },
    {
      "cell_type": "code",
      "execution_count": 12,
      "metadata": {},
      "outputs": [],
      "source": [
        "for i in range(len(ht)):\n",
        "    ht[i].dropna(inplace=True)\n",
        "    lt[i].dropna(inplace=True)"
      ]
    },
    {
      "cell_type": "markdown",
      "metadata": {},
      "source": [
        "# Create Database"
      ]
    },
    {
      "cell_type": "code",
      "execution_count": 16,
      "metadata": {},
      "outputs": [
        {
          "name": "stdout",
          "output_type": "stream",
          "text": [
            "Connection Successfull !!\n"
          ]
        }
      ],
      "source": [
        "try:\n",
        "    conn = mysql.connect(host='localhost', user='root', password='root', database='bescom')\n",
        "    if conn.is_connected():\n",
        "        cursor = conn.cursor()\n",
        "        print(\"Connection Successfull !!\")\n",
        "except Error as e:\n",
        "        print(e)"
      ]
    }
  ],
  "metadata": {
    "colab": {
      "provenance": []
    },
    "kernelspec": {
      "display_name": "Python 3",
      "name": "python3"
    },
    "language_info": {
      "codemirror_mode": {
        "name": "ipython",
        "version": 3
      },
      "file_extension": ".py",
      "mimetype": "text/x-python",
      "name": "python",
      "nbconvert_exporter": "python",
      "pygments_lexer": "ipython3",
      "version": "3.11.4"
    }
  },
  "nbformat": 4,
  "nbformat_minor": 0
}
